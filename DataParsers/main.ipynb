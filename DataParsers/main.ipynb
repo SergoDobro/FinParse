{
 "cells": [
  {
   "cell_type": "markdown",
   "metadata": {},
   "source": [
    "# Рынок BMW"
   ]
  },
  {
   "cell_type": "markdown",
   "metadata": {},
   "source": [
    "## Описание\n",
    "\n",
    "Для простоты рассмотрим рынок BMW, выпущенных после 2010 года. Данные берутся с 3 наиболее популярных сайтов по продаже авто в России — Авто.ру, Авито, Дром"
   ]
  },
  {
   "cell_type": "markdown",
   "metadata": {},
   "source": [
    "## Сбор данных\n",
    "\n",
    "Так как каждый сайт имеет свой HTML-код, то код для парсинга каждого сайта будет отличаться. Используется динамический парсинг с помощью Selenium"
   ]
  },
  {
   "cell_type": "markdown",
   "metadata": {},
   "source": [
    "### Основные критерии\n",
    "\n",
    "- Модель\n",
    "- Год выпуска\n",
    "- Объем двигателя\n",
    "- Бензин/дизель\n",
    "- Привод\n",
    "- Мощность (л.с.)\n",
    "- Пробег\n",
    "- КПП\n",
    "- Цена\n",
    "- Тип (седан/внедорожник/кроссовер) (???)\n"
   ]
  },
  {
   "cell_type": "code",
   "execution_count": 1,
   "metadata": {},
   "outputs": [],
   "source": [
    "from selenium import webdriver\n",
    "from selenium.webdriver.common.by import By\n",
    "from bs4 import BeautifulSoup\n",
    "from urllib.parse import urlparse\n",
    "import time\n",
    "import auto_ru_parse"
   ]
  },
  {
   "cell_type": "markdown",
   "metadata": {},
   "source": [
    "### Парсинг с Авто.ру"
   ]
  },
  {
   "cell_type": "code",
   "execution_count": null,
   "metadata": {},
   "outputs": [],
   "source": [
    "class Auto:\n",
    "    def __init__(self, model: str = \"\", gen: str = \"\", year: int = 0, engine_volume: float = 0.0, fuel_type: str = \"\",\n",
    "                 drive: str = \"\", power_hp: int = 0, mileage: int = 0, transmission: str = \"\", price: int = 0, url: str = \"\"):\n",
    "        self.model = model                      # модель\n",
    "        self.gen = gen                          # серия\n",
    "        self.year = year                        # год выпуска\n",
    "        self.engine_volume = engine_volume      # объем двигателя\n",
    "        self.fuel_type = fuel_type              # бензин/дизель\n",
    "        self.drive = drive                      # привод\n",
    "        self.power_hp = power_hp                # мощность в л.с.\n",
    "        self.mileage = mileage                  # пробег (==0, если новая)\n",
    "        self.transmission = transmission        # КПП\n",
    "        self.price = price                      # цена\n",
    "        self.url = url                          # ссылка на сайт\n",
    "\n",
    "    def __str__(self):\n",
    "        return (f\"{self.model} | {self.gen} | {self.year} | {self.mileage} |{self.engine_volume}L | {self.power_hp} HP | {self.fuel_type} | \"\n",
    "                f\"{self.transmission} | {self.drive} | {self.price} ₽ | {self.url}\")\n"
   ]
  },
  {
   "cell_type": "code",
   "execution_count": null,
   "metadata": {},
   "outputs": [],
   "source": [
    "num_pages = 10                      # кол-во страниц, которые хоти обработать\n",
    "year = 2010                         # самый ранний год выпуска машины\n",
    "non_dymanic = True                  # если нужно, чтобы браузер НЕ открывался в явном виде, то поставить True"
   ]
  },
  {
   "cell_type": "code",
   "execution_count": null,
   "metadata": {},
   "outputs": [],
   "source": [
    "htmls = auto_ru_parse.parse_html(year, num_pages, non_dymanic)"
   ]
  },
  {
   "cell_type": "code",
   "execution_count": null,
   "metadata": {},
   "outputs": [],
   "source": [
    "cars = auto_ru_parse.collect_data(htmls)"
   ]
  },
  {
   "cell_type": "code",
   "execution_count": null,
   "metadata": {},
   "outputs": [],
   "source": [
    "for el in cars:\n",
    "    print(el)"
   ]
  }
 ],
 "metadata": {
  "kernelspec": {
   "display_name": "Python 3",
   "language": "python",
   "name": "python3"
  },
  "language_info": {
   "codemirror_mode": {
    "name": "ipython",
    "version": 3
   },
   "file_extension": ".py",
   "mimetype": "text/x-python",
   "name": "python",
   "nbconvert_exporter": "python",
   "pygments_lexer": "ipython3",
   "version": "3.12.6"
  }
 },
 "nbformat": 4,
 "nbformat_minor": 2
}
